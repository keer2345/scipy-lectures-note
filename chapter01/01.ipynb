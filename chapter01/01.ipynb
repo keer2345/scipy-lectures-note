{
 "cells": [
  {
   "cell_type": "markdown",
   "metadata": {},
   "source": [
    "# Python scientific computing ecosystem"
   ]
  },
  {
   "cell_type": "markdown",
   "metadata": {},
   "source": [
    "## Why Python?"
   ]
  },
  {
   "cell_type": "markdown",
   "metadata": {},
   "source": [
    "\n",
    "### The scientist’s needs\n",
    "- Get data\n",
    "- Manipulate and process data\n",
    "- Visualize results, quickly to understand, but also with high quality figures, for reports or publications\n",
    "\n",
    "###  Python’s strengths\n",
    "- Batteries included\n",
    "- Easy to learn\n",
    "- Easy communication\n",
    "- Efficient code\n",
    "- Universal\n",
    "\n",
    "### How does Python compare to other solutions?\n",
    "- C, C++, Fortran…\n",
    "- Matlab scripting language\n",
    "- Julia\n",
    "- Scilab, Octave, R, IDL, etc.\n",
    "- Python\n",
    "\n",
    "## The Scientific Python ecosystem\n",
    "\n",
    "### Core numeric libraries\n",
    "- [Numpy](http://www.numpy.org/)\n",
    "- [Scipy](http://www.scipy.org/)\n",
    "- [Matplotlib](http://matplotlib.org/)\n",
    "\n",
    "### Advanced interactive environments\n",
    "- IPython\n",
    "- Jupyter, notebooks\n",
    "\n",
    "### Domain-specific packages\n",
    "- **Mayavi** for 3-D visualization\n",
    "- **pandas, statsmodels, seaborn** for statistics\n",
    "- **sympy** for symbolic computing\n",
    "- **scikit-image** for image processing\n",
    "- **scikit-learn** for machine learning\n",
    "\n",
    "## Installing a working environment\n",
    "\n",
    "## The workflow: interactive environments and text editors\n",
    "\n",
    "### Interactive work\n",
    "- IPython user manual: http://ipython.org/ipython-doc/dev/index.html\n",
    "- Jupyter Notebook QuickStart: http://jupyter.readthedocs.io/en/latest/content-quickstart.html"
   ]
  }
 ],
 "metadata": {
  "kernelspec": {
   "display_name": "Python 3",
   "language": "python",
   "name": "python3"
  },
  "language_info": {
   "codemirror_mode": {
    "name": "ipython",
    "version": 3
   },
   "file_extension": ".py",
   "mimetype": "text/x-python",
   "name": "python",
   "nbconvert_exporter": "python",
   "pygments_lexer": "ipython3",
   "version": "3.6.4"
  }
 },
 "nbformat": 4,
 "nbformat_minor": 2
}
